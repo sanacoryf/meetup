{
 "cells": [
  {
   "cell_type": "code",
   "execution_count": null,
   "metadata": {},
   "outputs": [],
   "source": [
    "import pandas\n",
    "from matplotlib import pyplot as plt\n",
    "\n",
    "df = pandas.read_csv('iris.data', header = None)\n",
    "df.columns = [\"sepal.length\", \"sepal.width\", \"petal.length\", \n",
    "              \"petal.width\", \"species\" ]\n"
   ]
  },
  {
   "cell_type": "code",
   "execution_count": null,
   "metadata": {},
   "outputs": [],
   "source": [
    "species = list(set(df[\"species\"]))\n",
    "df.head()"
   ]
  },
  {
   "cell_type": "code",
   "execution_count": null,
   "metadata": {},
   "outputs": [],
   "source": [
    "# \"sepal.length\",\"sepal.width\"\n",
    "cols = [\"sepal.length\",\"sepal.width\"]\n",
    "\n",
    "for s, marker, c in zip(species, \">ox\", \"rgb\"):\n",
    "    tempdata = df.loc[df[\"species\"] == s, cols].values\n",
    "    plt.scatter(tempdata[:,0],\n",
    "            tempdata[:,1],\n",
    "            marker = marker, c=c)\n",
    "\n",
    "    plt.xlabel(\"sepal.length\")\n",
    "    plt.ylabel(\"sepal.width\")\n",
    "    \n",
    "\n",
    "plt.show()\n"
   ]
  },
  {
   "cell_type": "code",
   "execution_count": null,
   "metadata": {},
   "outputs": [],
   "source": [
    "# \"petal.length\",\"petal.width\"\n",
    "cols = [\"petal.length\",\"petal.width\"]\n",
    "\n",
    "\n",
    "for s, marker, c in zip(species, \">ox\", \"rgb\"):\n",
    "    tempdata = df.loc[df[\"species\"] == s, cols].values\n",
    "    plt.scatter(tempdata[:,0],\n",
    "            tempdata[:,1],\n",
    "            marker = marker, c=c)\n",
    "\n",
    "    plt.xlabel(\"sepal.length\")\n",
    "    plt.ylabel(\"sepal.width\")\n",
    "    \n",
    "\n",
    "plt.show()"
   ]
  },
  {
   "cell_type": "code",
   "execution_count": null,
   "metadata": {},
   "outputs": [],
   "source": []
  }
 ],
 "metadata": {
  "kernelspec": {
   "display_name": "Python 3",
   "language": "python",
   "name": "python3"
  },
  "language_info": {
   "codemirror_mode": {
    "name": "ipython",
    "version": 3
   },
   "file_extension": ".py",
   "mimetype": "text/x-python",
   "name": "python",
   "nbconvert_exporter": "python",
   "pygments_lexer": "ipython3",
   "version": "3.7.1"
  }
 },
 "nbformat": 4,
 "nbformat_minor": 2
}
